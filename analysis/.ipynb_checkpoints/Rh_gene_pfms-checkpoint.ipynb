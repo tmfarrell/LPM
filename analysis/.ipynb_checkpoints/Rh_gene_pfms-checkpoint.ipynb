{
 "cells": [
  {
   "cell_type": "code",
   "execution_count": 1,
   "metadata": {
    "collapsed": true
   },
   "outputs": [],
   "source": [
    "import pysam \n",
    "import numpy as np"
   ]
  },
  {
   "cell_type": "code",
   "execution_count": 9,
   "metadata": {
    "collapsed": false
   },
   "outputs": [],
   "source": [
    "# set gene coordinates and bases dict \n",
    "## of note, the provided coordinates are different from \n",
    "## those cited by NCBI for assembly GRCH37.p13\n",
    "## the latter are listed in comments \n",
    "RHCE_coor =  (25688739, 25757662)     #(25687853, 25747363)\n",
    "#RHD_coor  = (25588680, 25656935)     # (25598884, 25656936) \n",
    "bases = {'A': 0, 'T': 1, 'C': 2, 'G': 3}\n",
    "\n",
    "# init associated PFM\n",
    "RHCE_pfm = np.zeros((4, RHCE_coor[1] - RHCE_coor[0] + 1))\n",
    "#RHD_pfm = np.zeros((4, RHD_coor[1] - RHD_coor[0] + 1))"
   ]
  },
  {
   "cell_type": "code",
   "execution_count": 10,
   "metadata": {
    "collapsed": false
   },
   "outputs": [],
   "source": [
    "pm14_00536 = pysam.AlignmentFile('/Volumes/Data/PM14-00536-extract_for_RHD_RHCE.bam', 'rb')"
   ]
  },
  {
   "cell_type": "code",
   "execution_count": 11,
   "metadata": {
    "collapsed": false
   },
   "outputs": [],
   "source": [
    "# fill PFMs and collect putative (indicated by lowercase)\n",
    "putative_snps = []\n",
    "for rhce_alignSeg in pm14_00536.fetch(reference='1', start=RHCE_coor[0], end=RHCE_coor[1]):\n",
    "    try:\n",
    "        aligned_pairs = rhce_alignSeg.get_aligned_pairs(matches_only=False, with_seq=True)\n",
    "    except: \n",
    "        aligned_pairs = rhce_alignSeg.get_aligned_pairs(matches_only=False)\n",
    "     \n",
    "    for alignedPair in aligned_pairs: \n",
    "        try: \n",
    "            base = alignedPair[2]\n",
    "            coor = alignedPair[1]\n",
    "            #print coor\n",
    "            RHCE_pfm[bases[base.upper()], coor - RHCE_coor[0] + 1] += 1     # normalize coor to RHCE starting pos\n",
    "            if base.islower(): \n",
    "                putative_snps = putative_snps + [(coor, base)]\n",
    "        except: \n",
    "            pass"
   ]
  },
  {
   "cell_type": "code",
   "execution_count": 7,
   "metadata": {
    "collapsed": false,
    "scrolled": false
   },
   "outputs": [],
   "source": [
    "#for col in range(RHCE_pfm.shape[1]):\n",
    " #   if np.count_nonzero(RHCE_pfm[:,col]) > 1: \n",
    "  #      print RHCE_pfm[:,col], col + RHCE_coor[0]"
   ]
  },
  {
   "cell_type": "code",
   "execution_count": 12,
   "metadata": {
    "collapsed": false
   },
   "outputs": [
    {
     "data": {
      "text/plain": [
       "(4, 68924)"
      ]
     },
     "execution_count": 12,
     "metadata": {},
     "output_type": "execute_result"
    }
   ],
   "source": [
    "RHCE_pfm.shape"
   ]
  },
  {
   "cell_type": "code",
   "execution_count": 13,
   "metadata": {
    "collapsed": true
   },
   "outputs": [],
   "source": [
    "RhCE = \"\".join([l.strip() for l in open('RhCE.fasta', 'r').readlines()][1:])\n",
    "RhD = \"\".join([l.strip() for l in open('RhD.fasta', 'r').readlines()][1:])"
   ]
  },
  {
   "cell_type": "code",
   "execution_count": 14,
   "metadata": {
    "collapsed": false
   },
   "outputs": [
    {
     "data": {
      "text/plain": [
       "68924"
      ]
     },
     "execution_count": 14,
     "metadata": {},
     "output_type": "execute_result"
    }
   ],
   "source": [
    "len(RhCE)"
   ]
  },
  {
   "cell_type": "code",
   "execution_count": 25,
   "metadata": {
    "collapsed": false,
    "scrolled": true
   },
   "outputs": [
    {
     "name": "stdout",
     "output_type": "stream",
     "text": [
      "   A    T    C    G\n",
      "---------------------\n",
      "[ 44.   0.   0.   0.] A\n",
      "[  0.  45.   0.   0.] A\n",
      "[ 44.   0.   0.   0.] A\n",
      "[ 44.   0.   0.   0.] T\n",
      "[ 44.   0.   0.   0.] G\n",
      "[ 43.   0.   0.   0.] C\n",
      "[  0.  42.   0.   0.] C\n",
      "[  0.  43.   0.   0.] C\n",
      "[ 43.   0.   0.   0.] T\n",
      "[ 43.   0.   0.   0.] C\n",
      "[  0.   0.  42.   0.] G\n",
      "[  0.   0.  44.   0.] G\n",
      "[  0.   0.  43.   0.] T\n",
      "[ 43.   0.   0.   0.] G\n",
      "[ 43.   0.   0.   0.] A\n",
      "[ 43.   0.   0.   0.] T\n",
      "[ 43.   0.   0.   0.] C\n",
      "[  0.   0.  43.   0.] C\n",
      "[  0.  43.   0.   0.] G\n",
      "[  0.  43.   0.   0.] G\n",
      "[  0.  43.   0.   0.] T\n",
      "[ 46.   0.   0.   0.] T\n",
      "[ 49.   0.   0.   0.] C\n",
      "[  0.  51.   0.   0.] C\n",
      "[ 52.   0.   0.   0.] G\n",
      "[ 51.   0.   0.   0.] C\n",
      "[  0.  51.   0.   0.] T\n",
      "[  0.   0.   0.  51.] T\n",
      "[  0.  51.   0.   0.] T\n",
      "[  0.   0.   0.  50.] A\n",
      "[  0.  49.   0.   0.] G\n",
      "[  0.   0.  50.   0.] G\n",
      "[  0.  51.   0.   0.] G\n",
      "[  0.   0.   0.  51.] G\n",
      "[  0.  50.   0.   0.] G\n",
      "[ 50.   0.   0.   0.] C\n",
      "[ 51.   0.   0.   0.] G\n",
      "[  0.   0.  51.   0.] G\n",
      "[  0.   0.  51.   0.] C\n",
      "[ 51.   0.   0.   0.] G\n",
      "[ 50.   0.   0.   0.] G\n",
      "[  0.   0.   0.  50.] A\n",
      "[ 50.   0.   0.   0.] G\n",
      "[ 49.   0.   0.   0.] C\n",
      "[ 49.   0.   0.   0.] T\n",
      "[ 51.   0.   0.   0.] T\n",
      "[  0.  51.   0.   0.] A\n",
      "[ 51.   0.   0.   0.] C\n",
      "[  0.  51.   0.   0.] T\n",
      "[  0.  52.   0.   0.] G\n",
      "[  0.   0.   0.  52.] C\n",
      "[ 52.   0.   0.   0.] A\n"
     ]
    }
   ],
   "source": [
    "'''print '   A    T    C    G'\n",
    "print '---------------------'\n",
    "for col in range(RHCE_pfm.shape[1]): \n",
    "    print RHCE_pfm[:,col], RhCE[col]\n",
    "    if col > 50: break'''"
   ]
  },
  {
   "cell_type": "code",
   "execution_count": 38,
   "metadata": {
    "collapsed": false
   },
   "outputs": [],
   "source": [
    "import pandas as pd\n",
    "\n",
    "rh_exons_ncbi = pd.read_table('Rh_exons_grch37.txt', names=['Genomic Region', 'Gene Prediction Tool', 'Type', 'Start', 'End', '.', 'Strand', '..', 'Notes'])\n",
    "rh_exons_ncbi['Gene'] = rh_exons_ncbi['Notes'].apply(lambda n: n[n.find('GeneID:')+len('GeneID:'):n.find('GeneID:')+len('GeneID:')+4]) \n",
    "del(rh_exons_ncbi['.']); del(rh_exons_ncbi['..']);\n",
    "rh_exons_ncbi = rh_exons_ncbi.drop_duplicates(subset=['Start', 'Gene']).drop_duplicates(subset=['End', 'Gene'])\n",
    "rh_exons_ncbi['Gene'] = rh_exons_ncbi['Gene'].apply(lambda g: 'RHD' if g == '6007' else 'RHCE')\n",
    "rh_exons_ncbi['Exon Length'] = rh_exons_ncbi['End'] - rh_exons_ncbi['Start']\n",
    "del(rh_exons_ncbi['Notes'])\n",
    "rh_exons_ncbi = rh_exons_ncbi.sort(columns=['Start','End'])"
   ]
  },
  {
   "cell_type": "code",
   "execution_count": 39,
   "metadata": {
    "collapsed": true
   },
   "outputs": [],
   "source": [
    "rhd_exons  = rh_exons_ncbi[rh_exons_ncbi['Gene'] == 'RHD']\n",
    "rhce_exons = rh_exons_ncbi[rh_exons_ncbi['Gene'] == 'RHCE']"
   ]
  },
  {
   "cell_type": "code",
   "execution_count": 41,
   "metadata": {
    "collapsed": false
   },
   "outputs": [
    {
     "name": "stderr",
     "output_type": "stream",
     "text": [
      "/Library/Python/2.7/site-packages/pandas/core/indexing.py:245: SettingWithCopyWarning: \n",
      "A value is trying to be set on a copy of a slice from a DataFrame.\n",
      "Try using .loc[row_indexer,col_indexer] = value instead\n",
      "\n",
      "See the the caveats in the documentation: http://pandas.pydata.org/pandas-docs/stable/indexing.html#indexing-view-versus-copy\n",
      "  self.obj[key] = np.nan\n"
     ]
    }
   ],
   "source": [
    "rhd_exons.loc[:,'Exon #'] = pd.Series(range(1,11), index=rhd_exons.index)\n",
    "rhce_exons.loc[:,'Exon #'] = pd.Series(range(10,0,-1), index=rhce_exons.index)"
   ]
  },
  {
   "cell_type": "code",
   "execution_count": 42,
   "metadata": {
    "collapsed": false
   },
   "outputs": [
    {
     "data": {
      "text/html": [
       "<div style=\"max-height:1000px;max-width:1500px;overflow:auto;\">\n",
       "<table border=\"1\" class=\"dataframe\">\n",
       "  <thead>\n",
       "    <tr style=\"text-align: right;\">\n",
       "      <th></th>\n",
       "      <th>Genomic Region</th>\n",
       "      <th>Gene Prediction Tool</th>\n",
       "      <th>Type</th>\n",
       "      <th>Start</th>\n",
       "      <th>End</th>\n",
       "      <th>Strand</th>\n",
       "      <th>Gene</th>\n",
       "      <th>Exon Length</th>\n",
       "      <th>Exon #</th>\n",
       "    </tr>\n",
       "  </thead>\n",
       "  <tbody>\n",
       "    <tr>\n",
       "      <th>23</th>\n",
       "      <td> NC_000001.10</td>\n",
       "      <td> RefSeq</td>\n",
       "      <td> exon</td>\n",
       "      <td> 25688740</td>\n",
       "      <td> 25689044</td>\n",
       "      <td> -</td>\n",
       "      <td> RHCE</td>\n",
       "      <td> 304</td>\n",
       "      <td> 10</td>\n",
       "    </tr>\n",
       "    <tr>\n",
       "      <th>22</th>\n",
       "      <td> NC_000001.10</td>\n",
       "      <td> RefSeq</td>\n",
       "      <td> exon</td>\n",
       "      <td> 25696958</td>\n",
       "      <td> 25697031</td>\n",
       "      <td> -</td>\n",
       "      <td> RHCE</td>\n",
       "      <td>  73</td>\n",
       "      <td>  9</td>\n",
       "    </tr>\n",
       "    <tr>\n",
       "      <th>21</th>\n",
       "      <td> NC_000001.10</td>\n",
       "      <td> RefSeq</td>\n",
       "      <td> exon</td>\n",
       "      <td> 25701840</td>\n",
       "      <td> 25701919</td>\n",
       "      <td> -</td>\n",
       "      <td> RHCE</td>\n",
       "      <td>  79</td>\n",
       "      <td>  8</td>\n",
       "    </tr>\n",
       "    <tr>\n",
       "      <th>20</th>\n",
       "      <td> NC_000001.10</td>\n",
       "      <td> RefSeq</td>\n",
       "      <td> exon</td>\n",
       "      <td> 25712202</td>\n",
       "      <td> 25712335</td>\n",
       "      <td> -</td>\n",
       "      <td> RHCE</td>\n",
       "      <td> 133</td>\n",
       "      <td>  7</td>\n",
       "    </tr>\n",
       "    <tr>\n",
       "      <th>27</th>\n",
       "      <td> NC_000001.10</td>\n",
       "      <td> RefSeq</td>\n",
       "      <td> exon</td>\n",
       "      <td> 25715467</td>\n",
       "      <td> 25715604</td>\n",
       "      <td> -</td>\n",
       "      <td> RHCE</td>\n",
       "      <td> 137</td>\n",
       "      <td>  6</td>\n",
       "    </tr>\n",
       "    <tr>\n",
       "      <th>35</th>\n",
       "      <td> NC_000001.10</td>\n",
       "      <td> RefSeq</td>\n",
       "      <td> exon</td>\n",
       "      <td> 25717240</td>\n",
       "      <td> 25717406</td>\n",
       "      <td> -</td>\n",
       "      <td> RHCE</td>\n",
       "      <td> 166</td>\n",
       "      <td>  5</td>\n",
       "    </tr>\n",
       "    <tr>\n",
       "      <th>34</th>\n",
       "      <td> NC_000001.10</td>\n",
       "      <td> RefSeq</td>\n",
       "      <td> exon</td>\n",
       "      <td> 25718485</td>\n",
       "      <td> 25718632</td>\n",
       "      <td> -</td>\n",
       "      <td> RHCE</td>\n",
       "      <td> 147</td>\n",
       "      <td>  4</td>\n",
       "    </tr>\n",
       "    <tr>\n",
       "      <th>19</th>\n",
       "      <td> NC_000001.10</td>\n",
       "      <td> RefSeq</td>\n",
       "      <td> exon</td>\n",
       "      <td> 25729087</td>\n",
       "      <td> 25729237</td>\n",
       "      <td> -</td>\n",
       "      <td> RHCE</td>\n",
       "      <td> 150</td>\n",
       "      <td>  3</td>\n",
       "    </tr>\n",
       "    <tr>\n",
       "      <th>18</th>\n",
       "      <td> NC_000001.10</td>\n",
       "      <td> RefSeq</td>\n",
       "      <td> exon</td>\n",
       "      <td> 25735174</td>\n",
       "      <td> 25735360</td>\n",
       "      <td> -</td>\n",
       "      <td> RHCE</td>\n",
       "      <td> 186</td>\n",
       "      <td>  2</td>\n",
       "    </tr>\n",
       "    <tr>\n",
       "      <th>17</th>\n",
       "      <td> NC_000001.10</td>\n",
       "      <td> RefSeq</td>\n",
       "      <td> exon</td>\n",
       "      <td> 25747130</td>\n",
       "      <td> 25747363</td>\n",
       "      <td> -</td>\n",
       "      <td> RHCE</td>\n",
       "      <td> 233</td>\n",
       "      <td>  1</td>\n",
       "    </tr>\n",
       "  </tbody>\n",
       "</table>\n",
       "</div>"
      ],
      "text/plain": [
       "   Genomic Region Gene Prediction Tool  Type     Start       End Strand  Gene  \\\n",
       "23   NC_000001.10               RefSeq  exon  25688740  25689044      -  RHCE   \n",
       "22   NC_000001.10               RefSeq  exon  25696958  25697031      -  RHCE   \n",
       "21   NC_000001.10               RefSeq  exon  25701840  25701919      -  RHCE   \n",
       "20   NC_000001.10               RefSeq  exon  25712202  25712335      -  RHCE   \n",
       "27   NC_000001.10               RefSeq  exon  25715467  25715604      -  RHCE   \n",
       "35   NC_000001.10               RefSeq  exon  25717240  25717406      -  RHCE   \n",
       "34   NC_000001.10               RefSeq  exon  25718485  25718632      -  RHCE   \n",
       "19   NC_000001.10               RefSeq  exon  25729087  25729237      -  RHCE   \n",
       "18   NC_000001.10               RefSeq  exon  25735174  25735360      -  RHCE   \n",
       "17   NC_000001.10               RefSeq  exon  25747130  25747363      -  RHCE   \n",
       "\n",
       "    Exon Length  Exon #  \n",
       "23          304      10  \n",
       "22           73       9  \n",
       "21           79       8  \n",
       "20          133       7  \n",
       "27          137       6  \n",
       "35          166       5  \n",
       "34          147       4  \n",
       "19          150       3  \n",
       "18          186       2  \n",
       "17          233       1  "
      ]
     },
     "execution_count": 42,
     "metadata": {},
     "output_type": "execute_result"
    }
   ],
   "source": [
    "rhce_exons"
   ]
  },
  {
   "cell_type": "code",
   "execution_count": null,
   "metadata": {
    "collapsed": true
   },
   "outputs": [],
   "source": []
  }
 ],
 "metadata": {
  "kernelspec": {
   "display_name": "Python 2",
   "language": "python",
   "name": "python2"
  },
  "language_info": {
   "codemirror_mode": {
    "name": "ipython",
    "version": 2
   },
   "file_extension": ".py",
   "mimetype": "text/x-python",
   "name": "python",
   "nbconvert_exporter": "python",
   "pygments_lexer": "ipython2",
   "version": "2.7.5"
  }
 },
 "nbformat": 4,
 "nbformat_minor": 0
}
